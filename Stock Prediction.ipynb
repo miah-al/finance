{
  "cells": [
    {
      "cell_type": "code",
      "execution_count": 10,
      "id": "2a4fdd0f",
      "metadata": {
        "colab": {
          "base_uri": "https://localhost:8080/",
          "height": 423
        },
        "id": "2a4fdd0f",
        "outputId": "d758fb02-8b42-4705-d4bd-bcaa6df69ea7"
      },
      "outputs": [
        {
          "data": {
            "text/html": [
              "<div>\n",
              "<style scoped>\n",
              "    .dataframe tbody tr th:only-of-type {\n",
              "        vertical-align: middle;\n",
              "    }\n",
              "\n",
              "    .dataframe tbody tr th {\n",
              "        vertical-align: top;\n",
              "    }\n",
              "\n",
              "    .dataframe thead th {\n",
              "        text-align: right;\n",
              "    }\n",
              "</style>\n",
              "<table border=\"1\" class=\"dataframe\">\n",
              "  <thead>\n",
              "    <tr style=\"text-align: right;\">\n",
              "      <th></th>\n",
              "      <th>Date</th>\n",
              "      <th>Open</th>\n",
              "      <th>High</th>\n",
              "      <th>Low</th>\n",
              "      <th>Close</th>\n",
              "      <th>Adj Close</th>\n",
              "      <th>Volume</th>\n",
              "    </tr>\n",
              "  </thead>\n",
              "  <tbody>\n",
              "    <tr>\n",
              "      <th>0</th>\n",
              "      <td>1997-05-15</td>\n",
              "      <td>0.121875</td>\n",
              "      <td>0.125000</td>\n",
              "      <td>0.096354</td>\n",
              "      <td>0.097917</td>\n",
              "      <td>0.097917</td>\n",
              "      <td>1443120000</td>\n",
              "    </tr>\n",
              "    <tr>\n",
              "      <th>1</th>\n",
              "      <td>1997-05-16</td>\n",
              "      <td>0.098438</td>\n",
              "      <td>0.098958</td>\n",
              "      <td>0.085417</td>\n",
              "      <td>0.086458</td>\n",
              "      <td>0.086458</td>\n",
              "      <td>294000000</td>\n",
              "    </tr>\n",
              "    <tr>\n",
              "      <th>2</th>\n",
              "      <td>1997-05-19</td>\n",
              "      <td>0.088021</td>\n",
              "      <td>0.088542</td>\n",
              "      <td>0.081250</td>\n",
              "      <td>0.085417</td>\n",
              "      <td>0.085417</td>\n",
              "      <td>122136000</td>\n",
              "    </tr>\n",
              "    <tr>\n",
              "      <th>3</th>\n",
              "      <td>1997-05-20</td>\n",
              "      <td>0.086458</td>\n",
              "      <td>0.087500</td>\n",
              "      <td>0.081771</td>\n",
              "      <td>0.081771</td>\n",
              "      <td>0.081771</td>\n",
              "      <td>109344000</td>\n",
              "    </tr>\n",
              "    <tr>\n",
              "      <th>4</th>\n",
              "      <td>1997-05-21</td>\n",
              "      <td>0.081771</td>\n",
              "      <td>0.082292</td>\n",
              "      <td>0.068750</td>\n",
              "      <td>0.071354</td>\n",
              "      <td>0.071354</td>\n",
              "      <td>377064000</td>\n",
              "    </tr>\n",
              "    <tr>\n",
              "      <th>...</th>\n",
              "      <td>...</td>\n",
              "      <td>...</td>\n",
              "      <td>...</td>\n",
              "      <td>...</td>\n",
              "      <td>...</td>\n",
              "      <td>...</td>\n",
              "      <td>...</td>\n",
              "    </tr>\n",
              "    <tr>\n",
              "      <th>6511</th>\n",
              "      <td>2023-03-30</td>\n",
              "      <td>101.550003</td>\n",
              "      <td>103.040001</td>\n",
              "      <td>101.010002</td>\n",
              "      <td>102.000000</td>\n",
              "      <td>102.000000</td>\n",
              "      <td>53633400</td>\n",
              "    </tr>\n",
              "    <tr>\n",
              "      <th>6512</th>\n",
              "      <td>2023-03-31</td>\n",
              "      <td>102.160004</td>\n",
              "      <td>103.489998</td>\n",
              "      <td>101.949997</td>\n",
              "      <td>103.290001</td>\n",
              "      <td>103.290001</td>\n",
              "      <td>56704300</td>\n",
              "    </tr>\n",
              "    <tr>\n",
              "      <th>6513</th>\n",
              "      <td>2023-04-03</td>\n",
              "      <td>102.300003</td>\n",
              "      <td>103.290001</td>\n",
              "      <td>101.430000</td>\n",
              "      <td>102.410004</td>\n",
              "      <td>102.410004</td>\n",
              "      <td>41135700</td>\n",
              "    </tr>\n",
              "    <tr>\n",
              "      <th>6514</th>\n",
              "      <td>2023-04-04</td>\n",
              "      <td>102.750000</td>\n",
              "      <td>104.199997</td>\n",
              "      <td>102.110001</td>\n",
              "      <td>103.949997</td>\n",
              "      <td>103.949997</td>\n",
              "      <td>48662500</td>\n",
              "    </tr>\n",
              "    <tr>\n",
              "      <th>6515</th>\n",
              "      <td>2023-04-05</td>\n",
              "      <td>103.910004</td>\n",
              "      <td>103.910004</td>\n",
              "      <td>100.750000</td>\n",
              "      <td>101.099998</td>\n",
              "      <td>101.099998</td>\n",
              "      <td>45103000</td>\n",
              "    </tr>\n",
              "  </tbody>\n",
              "</table>\n",
              "<p>6516 rows × 7 columns</p>\n",
              "</div>"
            ],
            "text/plain": [
              "            Date        Open        High         Low       Close   Adj Close  \\\n",
              "0     1997-05-15    0.121875    0.125000    0.096354    0.097917    0.097917   \n",
              "1     1997-05-16    0.098438    0.098958    0.085417    0.086458    0.086458   \n",
              "2     1997-05-19    0.088021    0.088542    0.081250    0.085417    0.085417   \n",
              "3     1997-05-20    0.086458    0.087500    0.081771    0.081771    0.081771   \n",
              "4     1997-05-21    0.081771    0.082292    0.068750    0.071354    0.071354   \n",
              "...          ...         ...         ...         ...         ...         ...   \n",
              "6511  2023-03-30  101.550003  103.040001  101.010002  102.000000  102.000000   \n",
              "6512  2023-03-31  102.160004  103.489998  101.949997  103.290001  103.290001   \n",
              "6513  2023-04-03  102.300003  103.290001  101.430000  102.410004  102.410004   \n",
              "6514  2023-04-04  102.750000  104.199997  102.110001  103.949997  103.949997   \n",
              "6515  2023-04-05  103.910004  103.910004  100.750000  101.099998  101.099998   \n",
              "\n",
              "          Volume  \n",
              "0     1443120000  \n",
              "1      294000000  \n",
              "2      122136000  \n",
              "3      109344000  \n",
              "4      377064000  \n",
              "...          ...  \n",
              "6511    53633400  \n",
              "6512    56704300  \n",
              "6513    41135700  \n",
              "6514    48662500  \n",
              "6515    45103000  \n",
              "\n",
              "[6516 rows x 7 columns]"
            ]
          },
          "execution_count": 10,
          "metadata": {},
          "output_type": "execute_result"
        }
      ],
      "source": [
        "import pandas as pd\n",
        "import numpy as np\n",
        "import matplotlib.pyplot as plt\n",
        "\n",
        "import torch\n",
        "import torch.nn as nn\n",
        "\n",
        "data = pd.read_csv('AMZN.csv')\n",
        "\n",
        "data"
      ]
    },
    {
      "cell_type": "code",
      "execution_count": 11,
      "id": "WtCP8-cDbg9R",
      "metadata": {
        "colab": {
          "base_uri": "https://localhost:8080/",
          "height": 423
        },
        "id": "WtCP8-cDbg9R",
        "outputId": "1a923823-8c15-4765-c9c9-19a233dc8131"
      },
      "outputs": [
        {
          "data": {
            "text/html": [
              "<div>\n",
              "<style scoped>\n",
              "    .dataframe tbody tr th:only-of-type {\n",
              "        vertical-align: middle;\n",
              "    }\n",
              "\n",
              "    .dataframe tbody tr th {\n",
              "        vertical-align: top;\n",
              "    }\n",
              "\n",
              "    .dataframe thead th {\n",
              "        text-align: right;\n",
              "    }\n",
              "</style>\n",
              "<table border=\"1\" class=\"dataframe\">\n",
              "  <thead>\n",
              "    <tr style=\"text-align: right;\">\n",
              "      <th></th>\n",
              "      <th>Date</th>\n",
              "      <th>Close</th>\n",
              "    </tr>\n",
              "  </thead>\n",
              "  <tbody>\n",
              "    <tr>\n",
              "      <th>0</th>\n",
              "      <td>1997-05-15</td>\n",
              "      <td>0.097917</td>\n",
              "    </tr>\n",
              "    <tr>\n",
              "      <th>1</th>\n",
              "      <td>1997-05-16</td>\n",
              "      <td>0.086458</td>\n",
              "    </tr>\n",
              "    <tr>\n",
              "      <th>2</th>\n",
              "      <td>1997-05-19</td>\n",
              "      <td>0.085417</td>\n",
              "    </tr>\n",
              "    <tr>\n",
              "      <th>3</th>\n",
              "      <td>1997-05-20</td>\n",
              "      <td>0.081771</td>\n",
              "    </tr>\n",
              "    <tr>\n",
              "      <th>4</th>\n",
              "      <td>1997-05-21</td>\n",
              "      <td>0.071354</td>\n",
              "    </tr>\n",
              "    <tr>\n",
              "      <th>...</th>\n",
              "      <td>...</td>\n",
              "      <td>...</td>\n",
              "    </tr>\n",
              "    <tr>\n",
              "      <th>6511</th>\n",
              "      <td>2023-03-30</td>\n",
              "      <td>102.000000</td>\n",
              "    </tr>\n",
              "    <tr>\n",
              "      <th>6512</th>\n",
              "      <td>2023-03-31</td>\n",
              "      <td>103.290001</td>\n",
              "    </tr>\n",
              "    <tr>\n",
              "      <th>6513</th>\n",
              "      <td>2023-04-03</td>\n",
              "      <td>102.410004</td>\n",
              "    </tr>\n",
              "    <tr>\n",
              "      <th>6514</th>\n",
              "      <td>2023-04-04</td>\n",
              "      <td>103.949997</td>\n",
              "    </tr>\n",
              "    <tr>\n",
              "      <th>6515</th>\n",
              "      <td>2023-04-05</td>\n",
              "      <td>101.099998</td>\n",
              "    </tr>\n",
              "  </tbody>\n",
              "</table>\n",
              "<p>6516 rows × 2 columns</p>\n",
              "</div>"
            ],
            "text/plain": [
              "            Date       Close\n",
              "0     1997-05-15    0.097917\n",
              "1     1997-05-16    0.086458\n",
              "2     1997-05-19    0.085417\n",
              "3     1997-05-20    0.081771\n",
              "4     1997-05-21    0.071354\n",
              "...          ...         ...\n",
              "6511  2023-03-30  102.000000\n",
              "6512  2023-03-31  103.290001\n",
              "6513  2023-04-03  102.410004\n",
              "6514  2023-04-04  103.949997\n",
              "6515  2023-04-05  101.099998\n",
              "\n",
              "[6516 rows x 2 columns]"
            ]
          },
          "execution_count": 11,
          "metadata": {},
          "output_type": "execute_result"
        }
      ],
      "source": [
        "data = data[['Date', 'Close']]\n",
        "data"
      ]
    },
    {
      "cell_type": "code",
      "execution_count": 12,
      "id": "9akB333XcFJ6",
      "metadata": {
        "colab": {
          "base_uri": "https://localhost:8080/",
          "height": 36
        },
        "id": "9akB333XcFJ6",
        "outputId": "2e8630de-1369-4281-d87c-9634ed90ba97"
      },
      "outputs": [
        {
          "data": {
            "text/plain": [
              "'cuda:0'"
            ]
          },
          "execution_count": 12,
          "metadata": {},
          "output_type": "execute_result"
        }
      ],
      "source": [
        "device = 'cuda:0' if torch.cuda.is_available() else 'cpu'\n",
        "device"
      ]
    },
    {
      "cell_type": "code",
      "execution_count": 13,
      "id": "tr2YuqKGcXcJ",
      "metadata": {
        "colab": {
          "base_uri": "https://localhost:8080/",
          "height": 551
        },
        "id": "tr2YuqKGcXcJ",
        "outputId": "bd197a93-bf7f-413c-fac0-5f4dc1a8471d"
      },
      "outputs": [
        {
          "name": "stderr",
          "output_type": "stream",
          "text": [
            "C:\\Users\\alomg\\AppData\\Local\\Temp\\ipykernel_3564\\1819287010.py:1: SettingWithCopyWarning: \n",
            "A value is trying to be set on a copy of a slice from a DataFrame.\n",
            "Try using .loc[row_indexer,col_indexer] = value instead\n",
            "\n",
            "See the caveats in the documentation: https://pandas.pydata.org/pandas-docs/stable/user_guide/indexing.html#returning-a-view-versus-a-copy\n",
            "  data['Date'] = pd.to_datetime(data['Date'])\n"
          ]
        },
        {
          "data": {
            "text/plain": [
              "[<matplotlib.lines.Line2D at 0x1c1bde98bd0>]"
            ]
          },
          "execution_count": 13,
          "metadata": {},
          "output_type": "execute_result"
        },
        {
          "data": {
            "image/png": "[encoded data removed]",
            "text/plain": [
              "<Figure size 640x480 with 1 Axes>"
            ]
          },
          "metadata": {},
          "output_type": "display_data"
        }
      ],
      "source": [
        "data['Date'] = pd.to_datetime(data['Date'])\n",
        "\n",
        "plt.plot(data['Date'], data['Close'])"
      ]
    },
    {
      "cell_type": "code",
      "execution_count": 14,
      "id": "Q4ma6QCscwfB",
      "metadata": {
        "colab": {
          "base_uri": "https://localhost:8080/",
          "height": 455
        },
        "id": "Q4ma6QCscwfB",
        "outputId": "61bd4c08-c3f7-453d-ed92-c2232a18a5ba"
      },
      "outputs": [
        {
          "data": {
            "text/html": [
              "<div>\n",
              "<style scoped>\n",
              "    .dataframe tbody tr th:only-of-type {\n",
              "        vertical-align: middle;\n",
              "    }\n",
              "\n",
              "    .dataframe tbody tr th {\n",
              "        vertical-align: top;\n",
              "    }\n",
              "\n",
              "    .dataframe thead th {\n",
              "        text-align: right;\n",
              "    }\n",
              "</style>\n",
              "<table border=\"1\" class=\"dataframe\">\n",
              "  <thead>\n",
              "    <tr style=\"text-align: right;\">\n",
              "      <th></th>\n",
              "      <th>Close</th>\n",
              "      <th>Close(t-1)</th>\n",
              "      <th>Close(t-2)</th>\n",
              "      <th>Close(t-3)</th>\n",
              "      <th>Close(t-4)</th>\n",
              "      <th>Close(t-5)</th>\n",
              "      <th>Close(t-6)</th>\n",
              "      <th>Close(t-7)</th>\n",
              "    </tr>\n",
              "    <tr>\n",
              "      <th>Date</th>\n",
              "      <th></th>\n",
              "      <th></th>\n",
              "      <th></th>\n",
              "      <th></th>\n",
              "      <th></th>\n",
              "      <th></th>\n",
              "      <th></th>\n",
              "      <th></th>\n",
              "    </tr>\n",
              "  </thead>\n",
              "  <tbody>\n",
              "    <tr>\n",
              "      <th>1997-05-27</th>\n",
              "      <td>0.079167</td>\n",
              "      <td>0.075000</td>\n",
              "      <td>0.069792</td>\n",
              "      <td>0.071354</td>\n",
              "      <td>0.081771</td>\n",
              "      <td>0.085417</td>\n",
              "      <td>0.086458</td>\n",
              "      <td>0.097917</td>\n",
              "    </tr>\n",
              "    <tr>\n",
              "      <th>1997-05-28</th>\n",
              "      <td>0.076563</td>\n",
              "      <td>0.079167</td>\n",
              "      <td>0.075000</td>\n",
              "      <td>0.069792</td>\n",
              "      <td>0.071354</td>\n",
              "      <td>0.081771</td>\n",
              "      <td>0.085417</td>\n",
              "      <td>0.086458</td>\n",
              "    </tr>\n",
              "    <tr>\n",
              "      <th>1997-05-29</th>\n",
              "      <td>0.075260</td>\n",
              "      <td>0.076563</td>\n",
              "      <td>0.079167</td>\n",
              "      <td>0.075000</td>\n",
              "      <td>0.069792</td>\n",
              "      <td>0.071354</td>\n",
              "      <td>0.081771</td>\n",
              "      <td>0.085417</td>\n",
              "    </tr>\n",
              "    <tr>\n",
              "      <th>1997-05-30</th>\n",
              "      <td>0.075000</td>\n",
              "      <td>0.075260</td>\n",
              "      <td>0.076563</td>\n",
              "      <td>0.079167</td>\n",
              "      <td>0.075000</td>\n",
              "      <td>0.069792</td>\n",
              "      <td>0.071354</td>\n",
              "      <td>0.081771</td>\n",
              "    </tr>\n",
              "    <tr>\n",
              "      <th>1997-06-02</th>\n",
              "      <td>0.075521</td>\n",
              "      <td>0.075000</td>\n",
              "      <td>0.075260</td>\n",
              "      <td>0.076563</td>\n",
              "      <td>0.079167</td>\n",
              "      <td>0.075000</td>\n",
              "      <td>0.069792</td>\n",
              "      <td>0.071354</td>\n",
              "    </tr>\n",
              "    <tr>\n",
              "      <th>...</th>\n",
              "      <td>...</td>\n",
              "      <td>...</td>\n",
              "      <td>...</td>\n",
              "      <td>...</td>\n",
              "      <td>...</td>\n",
              "      <td>...</td>\n",
              "      <td>...</td>\n",
              "      <td>...</td>\n",
              "    </tr>\n",
              "    <tr>\n",
              "      <th>2023-03-30</th>\n",
              "      <td>102.000000</td>\n",
              "      <td>100.250000</td>\n",
              "      <td>97.239998</td>\n",
              "      <td>98.040001</td>\n",
              "      <td>98.129997</td>\n",
              "      <td>98.709999</td>\n",
              "      <td>98.699997</td>\n",
              "      <td>100.610001</td>\n",
              "    </tr>\n",
              "    <tr>\n",
              "      <th>2023-03-31</th>\n",
              "      <td>103.290001</td>\n",
              "      <td>102.000000</td>\n",
              "      <td>100.250000</td>\n",
              "      <td>97.239998</td>\n",
              "      <td>98.040001</td>\n",
              "      <td>98.129997</td>\n",
              "      <td>98.709999</td>\n",
              "      <td>98.699997</td>\n",
              "    </tr>\n",
              "    <tr>\n",
              "      <th>2023-04-03</th>\n",
              "      <td>102.410004</td>\n",
              "      <td>103.290001</td>\n",
              "      <td>102.000000</td>\n",
              "      <td>100.250000</td>\n",
              "      <td>97.239998</td>\n",
              "      <td>98.040001</td>\n",
              "      <td>98.129997</td>\n",
              "      <td>98.709999</td>\n",
              "    </tr>\n",
              "    <tr>\n",
              "      <th>2023-04-04</th>\n",
              "      <td>103.949997</td>\n",
              "      <td>102.410004</td>\n",
              "      <td>103.290001</td>\n",
              "      <td>102.000000</td>\n",
              "      <td>100.250000</td>\n",
              "      <td>97.239998</td>\n",
              "      <td>98.040001</td>\n",
              "      <td>98.129997</td>\n",
              "    </tr>\n",
              "    <tr>\n",
              "      <th>2023-04-05</th>\n",
              "      <td>101.099998</td>\n",
              "      <td>103.949997</td>\n",
              "      <td>102.410004</td>\n",
              "      <td>103.290001</td>\n",
              "      <td>102.000000</td>\n",
              "      <td>100.250000</td>\n",
              "      <td>97.239998</td>\n",
              "      <td>98.040001</td>\n",
              "    </tr>\n",
              "  </tbody>\n",
              "</table>\n",
              "<p>6509 rows × 8 columns</p>\n",
              "</div>"
            ],
            "text/plain": [
              "                 Close  Close(t-1)  Close(t-2)  Close(t-3)  Close(t-4)  \\\n",
              "Date                                                                     \n",
              "1997-05-27    0.079167    0.075000    0.069792    0.071354    0.081771   \n",
              "1997-05-28    0.076563    0.079167    0.075000    0.069792    0.071354   \n",
              "1997-05-29    0.075260    0.076563    0.079167    0.075000    0.069792   \n",
              "1997-05-30    0.075000    0.075260    0.076563    0.079167    0.075000   \n",
              "1997-06-02    0.075521    0.075000    0.075260    0.076563    0.079167   \n",
              "...                ...         ...         ...         ...         ...   \n",
              "2023-03-30  102.000000  100.250000   97.239998   98.040001   98.129997   \n",
              "2023-03-31  103.290001  102.000000  100.250000   97.239998   98.040001   \n",
              "2023-04-03  102.410004  103.290001  102.000000  100.250000   97.239998   \n",
              "2023-04-04  103.949997  102.410004  103.290001  102.000000  100.250000   \n",
              "2023-04-05  101.099998  103.949997  102.410004  103.290001  102.000000   \n",
              "\n",
              "            Close(t-5)  Close(t-6)  Close(t-7)  \n",
              "Date                                            \n",
              "1997-05-27    0.085417    0.086458    0.097917  \n",
              "1997-05-28    0.081771    0.085417    0.086458  \n",
              "1997-05-29    0.071354    0.081771    0.085417  \n",
              "1997-05-30    0.069792    0.071354    0.081771  \n",
              "1997-06-02    0.075000    0.069792    0.071354  \n",
              "...                ...         ...         ...  \n",
              "2023-03-30   98.709999   98.699997  100.610001  \n",
              "2023-03-31   98.129997   98.709999   98.699997  \n",
              "2023-04-03   98.040001   98.129997   98.709999  \n",
              "2023-04-04   97.239998   98.040001   98.129997  \n",
              "2023-04-05  100.250000   97.239998   98.040001  \n",
              "\n",
              "[6509 rows x 8 columns]"
            ]
          },
          "execution_count": 14,
          "metadata": {},
          "output_type": "execute_result"
        }
      ],
      "source": [
        "from copy import deepcopy as dc\n",
        "\n",
        "def prepare_dataframe_for_lstm(df, n_steps):\n",
        "    df = dc(df)\n",
        "\n",
        "    df.set_index('Date', inplace=True)\n",
        "\n",
        "    for i in range(1, n_steps+1):\n",
        "        df[f'Close(t-{i})'] = df['Close'].shift(i)\n",
        "\n",
        "    df.dropna(inplace=True)\n",
        "\n",
        "    return df\n",
        "\n",
        "lookback = 7\n",
        "shifted_df = prepare_dataframe_for_lstm(data, lookback)\n",
        "shifted_df"
      ]
    },
    {
      "cell_type": "code",
      "execution_count": 15,
      "id": "yWcD1tHjfAU-",
      "metadata": {
        "colab": {
          "base_uri": "https://localhost:8080/"
        },
        "id": "yWcD1tHjfAU-",
        "outputId": "e10f8cdf-7b44-4c1a-d0a2-9007aac1685c"
      },
      "outputs": [
        {
          "data": {
            "text/plain": [
              "array([[7.91670000e-02, 7.50000000e-02, 6.97920000e-02, ...,\n",
              "        8.54170000e-02, 8.64580000e-02, 9.79170000e-02],\n",
              "       [7.65630000e-02, 7.91670000e-02, 7.50000000e-02, ...,\n",
              "        8.17710000e-02, 8.54170000e-02, 8.64580000e-02],\n",
              "       [7.52600000e-02, 7.65630000e-02, 7.91670000e-02, ...,\n",
              "        7.13540000e-02, 8.17710000e-02, 8.54170000e-02],\n",
              "       ...,\n",
              "       [1.02410004e+02, 1.03290001e+02, 1.02000000e+02, ...,\n",
              "        9.80400010e+01, 9.81299970e+01, 9.87099990e+01],\n",
              "       [1.03949997e+02, 1.02410004e+02, 1.03290001e+02, ...,\n",
              "        9.72399980e+01, 9.80400010e+01, 9.81299970e+01],\n",
              "       [1.01099998e+02, 1.03949997e+02, 1.02410004e+02, ...,\n",
              "        1.00250000e+02, 9.72399980e+01, 9.80400010e+01]])"
            ]
          },
          "execution_count": 15,
          "metadata": {},
          "output_type": "execute_result"
        }
      ],
      "source": [
        "shifted_df_as_np = shifted_df.to_numpy()\n",
        "\n",
        "shifted_df_as_np"
      ]
    },
    {
      "cell_type": "code",
      "execution_count": 16,
      "id": "Pq2p3opGELA_",
      "metadata": {
        "colab": {
          "base_uri": "https://localhost:8080/"
        },
        "id": "Pq2p3opGELA_",
        "outputId": "5cb2ff07-5d8f-4117-eafd-6a3c5663c6ff"
      },
      "outputs": [
        {
          "data": {
            "text/plain": [
              "(6509, 8)"
            ]
          },
          "execution_count": 16,
          "metadata": {},
          "output_type": "execute_result"
        }
      ],
      "source": [
        "shifted_df_as_np.shape"
      ]
    },
    {
      "cell_type": "code",
      "execution_count": 17,
      "id": "pXHkuFeafNUU",
      "metadata": {
        "colab": {
          "base_uri": "https://localhost:8080/"
        },
        "id": "pXHkuFeafNUU",
        "outputId": "a67d1f79-d279-4c96-e40f-0d9a5f9f7d7d"
      },
      "outputs": [
        {
          "data": {
            "text/plain": [
              "array([[-0.99991063, -0.99995531, -1.        , ..., -0.99983244,\n",
              "        -0.99982128, -0.99969839],\n",
              "       [-0.99993855, -0.99991063, -0.99994415, ..., -0.99987154,\n",
              "        -0.99983244, -0.99982128],\n",
              "       [-0.99995253, -0.99993855, -0.99989946, ..., -0.99998325,\n",
              "        -0.99987154, -0.99983244],\n",
              "       ...,\n",
              "       [ 0.09747299,  0.10690997,  0.09308121, ...,  0.0506149 ,\n",
              "         0.05158   ,  0.05779984],\n",
              "       [ 0.11398769,  0.09747299,  0.10691495, ...,  0.04203581,\n",
              "         0.0506149 ,  0.05158   ],\n",
              "       [ 0.08342464,  0.11398769,  0.09747802, ...,  0.07431453,\n",
              "         0.04203581,  0.0506149 ]])"
            ]
          },
          "execution_count": 17,
          "metadata": {},
          "output_type": "execute_result"
        }
      ],
      "source": [
        "from sklearn.preprocessing import MinMaxScaler\n",
        "\n",
        "scaler = MinMaxScaler(feature_range=(-1, 1))\n",
        "shifted_df_as_np = scaler.fit_transform(shifted_df_as_np)\n",
        "\n",
        "shifted_df_as_np"
      ]
    },
    {
      "cell_type": "code",
      "execution_count": 18,
      "id": "Iui9unuTfxOe",
      "metadata": {
        "colab": {
          "base_uri": "https://localhost:8080/"
        },
        "id": "Iui9unuTfxOe",
        "outputId": "642f093d-5071-43ef-fb9c-4c54061aec3e"
      },
      "outputs": [
        {
          "data": {
            "text/plain": [
              "((6509, 7), (6509,))"
            ]
          },
          "execution_count": 18,
          "metadata": {},
          "output_type": "execute_result"
        }
      ],
      "source": [
        "X = shifted_df_as_np[:, 1:]\n",
        "y = shifted_df_as_np[:, 0]\n",
        "\n",
        "X.shape, y.shape"
      ]
    },
    {
      "cell_type": "code",
      "execution_count": 19,
      "id": "XmbIqwj-E0cv",
      "metadata": {
        "colab": {
          "base_uri": "https://localhost:8080/"
        },
        "id": "XmbIqwj-E0cv",
        "outputId": "48ccc3a1-1b5c-49fd-ae2f-3f8b143fbb4c"
      },
      "outputs": [
        {
          "data": {
            "text/plain": [
              "array([[-0.99969839, -0.99982128, -0.99983244, ..., -0.99998325,\n",
              "        -1.        , -0.99995531],\n",
              "       [-0.99982128, -0.99983244, -0.99987154, ..., -1.        ,\n",
              "        -0.99994415, -0.99991063],\n",
              "       [-0.99983244, -0.99987154, -0.99998325, ..., -0.99994415,\n",
              "        -0.99989946, -0.99993855],\n",
              "       ...,\n",
              "       [ 0.05779984,  0.05158   ,  0.0506149 , ...,  0.07431453,\n",
              "         0.09308121,  0.10690997],\n",
              "       [ 0.05158   ,  0.0506149 ,  0.04203581, ...,  0.09308121,\n",
              "         0.10691495,  0.09747299],\n",
              "       [ 0.0506149 ,  0.04203581,  0.07431453, ...,  0.10691495,\n",
              "         0.09747802,  0.11398769]])"
            ]
          },
          "execution_count": 19,
          "metadata": {},
          "output_type": "execute_result"
        }
      ],
      "source": [
        "X = dc(np.flip(X, axis=1))\n",
        "X"
      ]
    },
    {
      "cell_type": "code",
      "execution_count": 20,
      "id": "GCHslawXgE21",
      "metadata": {
        "colab": {
          "base_uri": "https://localhost:8080/"
        },
        "id": "GCHslawXgE21",
        "outputId": "a2e50719-a1fb-460e-9ce4-9dd873642765"
      },
      "outputs": [
        {
          "data": {
            "text/plain": [
              "6183"
            ]
          },
          "execution_count": 20,
          "metadata": {},
          "output_type": "execute_result"
        }
      ],
      "source": [
        "split_index = int(len(X) * 0.95)\n",
        "\n",
        "split_index"
      ]
    },
    {
      "cell_type": "code",
      "execution_count": 21,
      "id": "hhGMh_nAgiST",
      "metadata": {
        "colab": {
          "base_uri": "https://localhost:8080/"
        },
        "id": "hhGMh_nAgiST",
        "outputId": "aeb231ef-e124-4821-f4ee-dbb2275c0f98"
      },
      "outputs": [
        {
          "data": {
            "text/plain": [
              "((6183, 7), (326, 7), (6183,), (326,))"
            ]
          },
          "execution_count": 21,
          "metadata": {},
          "output_type": "execute_result"
        }
      ],
      "source": [
        "X_train = X[:split_index]\n",
        "X_test = X[split_index:]\n",
        "\n",
        "y_train = y[:split_index]\n",
        "y_test = y[split_index:]\n",
        "\n",
        "X_train.shape, X_test.shape, y_train.shape, y_test.shape"
      ]
    },
    {
      "cell_type": "code",
      "execution_count": 22,
      "id": "Muqs9hKYhMUS",
      "metadata": {
        "colab": {
          "base_uri": "https://localhost:8080/"
        },
        "id": "Muqs9hKYhMUS",
        "outputId": "d35136a0-5855-4bfb-b66b-b8f7a1a8ea96"
      },
      "outputs": [
        {
          "data": {
            "text/plain": [
              "((6183, 7, 1), (326, 7, 1), (6183, 1), (326, 1))"
            ]
          },
          "execution_count": 22,
          "metadata": {},
          "output_type": "execute_result"
        }
      ],
      "source": [
        "X_train = X_train.reshape((-1, lookback, 1))\n",
        "X_test = X_test.reshape((-1, lookback, 1))\n",
        "\n",
        "y_train = y_train.reshape((-1, 1))\n",
        "y_test = y_test.reshape((-1, 1))\n",
        "\n",
        "X_train.shape, X_test.shape, y_train.shape, y_test.shape"
      ]
    },
    {
      "cell_type": "code",
      "execution_count": 23,
      "id": "i7-PBcrMhR7z",
      "metadata": {
        "colab": {
          "base_uri": "https://localhost:8080/"
        },
        "id": "i7-PBcrMhR7z",
        "outputId": "b01a297a-75d6-4573-e450-a3545360112e"
      },
      "outputs": [
        {
          "data": {
            "text/plain": [
              "(torch.Size([6183, 7, 1]),\n",
              " torch.Size([326, 7, 1]),\n",
              " torch.Size([6183, 1]),\n",
              " torch.Size([326, 1]))"
            ]
          },
          "execution_count": 23,
          "metadata": {},
          "output_type": "execute_result"
        }
      ],
      "source": [
        "X_train = torch.tensor(X_train).float()\n",
        "y_train = torch.tensor(y_train).float()\n",
        "X_test = torch.tensor(X_test).float()\n",
        "y_test = torch.tensor(y_test).float()\n",
        "\n",
        "X_train.shape, X_test.shape, y_train.shape, y_test.shape"
      ]
    },
    {
      "cell_type": "code",
      "execution_count": 24,
      "id": "DWutCAGKhdqU",
      "metadata": {
        "id": "DWutCAGKhdqU"
      },
      "outputs": [],
      "source": [
        "from torch.utils.data import Dataset\n",
        "\n",
        "class TimeSeriesDataset(Dataset):\n",
        "    def __init__(self, X, y):\n",
        "        self.X = X\n",
        "        self.y = y\n",
        "\n",
        "    def __len__(self):\n",
        "        return len(self.X)\n",
        "\n",
        "    def __getitem__(self, i):\n",
        "        return self.X[i], self.y[i]\n",
        "\n",
        "train_dataset = TimeSeriesDataset(X_train, y_train)\n",
        "test_dataset = TimeSeriesDataset(X_test, y_test)"
      ]
    },
    {
      "cell_type": "code",
      "execution_count": 25,
      "id": "12OWUTa5ijoq",
      "metadata": {
        "colab": {
          "base_uri": "https://localhost:8080/"
        },
        "id": "12OWUTa5ijoq",
        "outputId": "0928d3c2-d181-4035-cc57-a2ac6ce38075"
      },
      "outputs": [
        {
          "data": {
            "text/plain": [
              "<__main__.TimeSeriesDataset at 0x1c1bded7d50>"
            ]
          },
          "execution_count": 25,
          "metadata": {},
          "output_type": "execute_result"
        }
      ],
      "source": [
        "train_dataset"
      ]
    },
    {
      "cell_type": "code",
      "execution_count": 26,
      "id": "XYsUmPl3ik46",
      "metadata": {
        "id": "XYsUmPl3ik46"
      },
      "outputs": [],
      "source": [
        "from torch.utils.data import DataLoader\n",
        "\n",
        "batch_size = 16\n",
        "\n",
        "train_loader = DataLoader(train_dataset, batch_size=batch_size, shuffle=True)\n",
        "test_loader = DataLoader(test_dataset, batch_size=batch_size, shuffle=False)"
      ]
    },
    {
      "cell_type": "code",
      "execution_count": 27,
      "id": "TJTnbgBDjOSK",
      "metadata": {
        "colab": {
          "base_uri": "https://localhost:8080/"
        },
        "id": "TJTnbgBDjOSK",
        "outputId": "51226616-d4de-4a22-f4d9-576fd3e8bfba"
      },
      "outputs": [
        {
          "name": "stdout",
          "output_type": "stream",
          "text": [
            "torch.Size([16, 7, 1]) torch.Size([16, 1])\n"
          ]
        }
      ],
      "source": [
        "for _, batch in enumerate(train_loader):\n",
        "    x_batch, y_batch = batch[0].to(device), batch[1].to(device)\n",
        "    print(x_batch.shape, y_batch.shape)\n",
        "    break"
      ]
    },
    {
      "cell_type": "code",
      "execution_count": 28,
      "id": "njdkq_kmjib5",
      "metadata": {
        "colab": {
          "base_uri": "https://localhost:8080/"
        },
        "id": "njdkq_kmjib5",
        "outputId": "db355c8d-cc21-43f5-cdfa-2156444b4531"
      },
      "outputs": [
        {
          "data": {
            "text/plain": [
              "LSTM(\n",
              "  (lstm): LSTM(1, 4, batch_first=True)\n",
              "  (fc): Linear(in_features=4, out_features=1, bias=True)\n",
              ")"
            ]
          },
          "execution_count": 28,
          "metadata": {},
          "output_type": "execute_result"
        }
      ],
      "source": [
        "class LSTM(nn.Module):\n",
        "    def __init__(self, input_size, hidden_size, num_stacked_layers):\n",
        "        super().__init__()\n",
        "        self.hidden_size = hidden_size\n",
        "        self.num_stacked_layers = num_stacked_layers\n",
        "\n",
        "        self.lstm = nn.LSTM(input_size, hidden_size, num_stacked_layers,\n",
        "                            batch_first=True)\n",
        "\n",
        "        self.fc = nn.Linear(hidden_size, 1)\n",
        "\n",
        "    def forward(self, x):\n",
        "        batch_size = x.size(0)\n",
        "        h0 = torch.zeros(self.num_stacked_layers, batch_size, self.hidden_size).to(device)\n",
        "        c0 = torch.zeros(self.num_stacked_layers, batch_size, self.hidden_size).to(device)\n",
        "\n",
        "        out, _ = self.lstm(x, (h0, c0))\n",
        "        out = self.fc(out[:, -1, :])\n",
        "        return out\n",
        "\n",
        "model = LSTM(1, 4, 1)\n",
        "model.to(device)\n",
        "model"
      ]
    },
    {
      "cell_type": "code",
      "execution_count": 29,
      "id": "iue5WvTxmVKB",
      "metadata": {
        "id": "iue5WvTxmVKB"
      },
      "outputs": [],
      "source": [
        "def train_one_epoch():\n",
        "    model.train(True)\n",
        "    print(f'Epoch: {epoch + 1}')\n",
        "    running_loss = 0.0\n",
        "\n",
        "    for batch_index, batch in enumerate(train_loader):\n",
        "        x_batch, y_batch = batch[0].to(device), batch[1].to(device)\n",
        "\n",
        "        output = model(x_batch)\n",
        "        loss = loss_function(output, y_batch)\n",
        "        running_loss += loss.item()\n",
        "\n",
        "        optimizer.zero_grad()\n",
        "        loss.backward()\n",
        "        optimizer.step()\n",
        "\n",
        "        if batch_index % 100 == 99:  # print every 100 batches\n",
        "            avg_loss_across_batches = running_loss / 100\n",
        "            print('Batch {0}, Loss: {1:.3f}'.format(batch_index+1,\n",
        "                                                    avg_loss_across_batches))\n",
        "            running_loss = 0.0\n",
        "    print()"
      ]
    },
    {
      "cell_type": "code",
      "execution_count": 30,
      "id": "gRmNuV3cmy-t",
      "metadata": {
        "id": "gRmNuV3cmy-t"
      },
      "outputs": [],
      "source": [
        "def validate_one_epoch():\n",
        "    model.train(False)\n",
        "    running_loss = 0.0\n",
        "\n",
        "    for batch_index, batch in enumerate(test_loader):\n",
        "        x_batch, y_batch = batch[0].to(device), batch[1].to(device)\n",
        "\n",
        "        with torch.no_grad():\n",
        "            output = model(x_batch)\n",
        "            loss = loss_function(output, y_batch)\n",
        "            running_loss += loss.item()\n",
        "\n",
        "    avg_loss_across_batches = running_loss / len(test_loader)\n",
        "\n",
        "    print('Val Loss: {0:.3f}'.format(avg_loss_across_batches))\n",
        "    print('***************************************************')\n",
        "    print()"
      ]
    },
    {
      "cell_type": "code",
      "execution_count": 31,
      "id": "1jgb1aJ3lxlQ",
      "metadata": {
        "colab": {
          "base_uri": "https://localhost:8080/"
        },
        "id": "1jgb1aJ3lxlQ",
        "outputId": "2a25db36-4872-44e4-feca-4d26bad49f96"
      },
      "outputs": [
        {
          "name": "stdout",
          "output_type": "stream",
          "text": [
            "Epoch: 1\n",
            "Batch 100, Loss: 0.374\n",
            "Batch 200, Loss: 0.117\n",
            "Batch 300, Loss: 0.055\n",
            "\n",
            "Val Loss: 0.118\n",
            "***************************************************\n",
            "\n",
            "Epoch: 2\n",
            "Batch 100, Loss: 0.020\n",
            "Batch 200, Loss: 0.019\n",
            "Batch 300, Loss: 0.014\n",
            "\n",
            "Val Loss: 0.024\n",
            "***************************************************\n",
            "\n",
            "Epoch: 3\n",
            "Batch 100, Loss: 0.006\n",
            "Batch 200, Loss: 0.004\n",
            "Batch 300, Loss: 0.002\n",
            "\n",
            "Val Loss: 0.010\n",
            "***************************************************\n",
            "\n",
            "Epoch: 4\n",
            "Batch 100, Loss: 0.001\n",
            "Batch 200, Loss: 0.001\n",
            "Batch 300, Loss: 0.001\n",
            "\n",
            "Val Loss: 0.011\n",
            "***************************************************\n",
            "\n",
            "Epoch: 5\n",
            "Batch 100, Loss: 0.000\n",
            "Batch 200, Loss: 0.001\n",
            "Batch 300, Loss: 0.001\n",
            "\n",
            "Val Loss: 0.008\n",
            "***************************************************\n",
            "\n",
            "Epoch: 6\n",
            "Batch 100, Loss: 0.001\n",
            "Batch 200, Loss: 0.000\n",
            "Batch 300, Loss: 0.001\n",
            "\n",
            "Val Loss: 0.006\n",
            "***************************************************\n",
            "\n",
            "Epoch: 7\n",
            "Batch 100, Loss: 0.000\n",
            "Batch 200, Loss: 0.000\n",
            "Batch 300, Loss: 0.000\n",
            "\n",
            "Val Loss: 0.006\n",
            "***************************************************\n",
            "\n",
            "Epoch: 8\n",
            "Batch 100, Loss: 0.000\n",
            "Batch 200, Loss: 0.000\n",
            "Batch 300, Loss: 0.000\n",
            "\n",
            "Val Loss: 0.005\n",
            "***************************************************\n",
            "\n",
            "Epoch: 9\n",
            "Batch 100, Loss: 0.000\n",
            "Batch 200, Loss: 0.000\n",
            "Batch 300, Loss: 0.000\n",
            "\n",
            "Val Loss: 0.005\n",
            "***************************************************\n",
            "\n",
            "Epoch: 10\n",
            "Batch 100, Loss: 0.000\n",
            "Batch 200, Loss: 0.000\n",
            "Batch 300, Loss: 0.000\n",
            "\n",
            "Val Loss: 0.005\n",
            "***************************************************\n",
            "\n"
          ]
        }
      ],
      "source": [
        "learning_rate = 0.001\n",
        "num_epochs = 10\n",
        "loss_function = nn.MSELoss()\n",
        "optimizer = torch.optim.Adam(model.parameters(), lr=learning_rate)\n",
        "\n",
        "for epoch in range(num_epochs):\n",
        "    train_one_epoch()\n",
        "    validate_one_epoch()"
      ]
    },
    {
      "cell_type": "code",
      "execution_count": 32,
      "id": "-Xon2PHWno7t",
      "metadata": {
        "colab": {
          "base_uri": "https://localhost:8080/",
          "height": 449
        },
        "id": "-Xon2PHWno7t",
        "outputId": "862b1d87-3e42-4fe1-8618-3cf0720e0da5"
      },
      "outputs": [
        {
          "data": {
            "image/png": "[encoded data removed]",
            "text/plain": [
              "<Figure size 640x480 with 1 Axes>"
            ]
          },
          "metadata": {},
          "output_type": "display_data"
        }
      ],
      "source": [
        "with torch.no_grad():\n",
        "    predicted = model(X_train.to(device)).to('cpu').numpy()\n",
        "\n",
        "plt.plot(y_train, label='Actual Close')\n",
        "plt.plot(predicted, label='Predicted Close')\n",
        "plt.xlabel('Day')\n",
        "plt.ylabel('Close')\n",
        "plt.legend()\n",
        "plt.show()\n"
      ]
    },
    {
      "cell_type": "code",
      "execution_count": 33,
      "id": "d3SDgEvPpOcD",
      "metadata": {
        "colab": {
          "base_uri": "https://localhost:8080/"
        },
        "id": "d3SDgEvPpOcD",
        "outputId": "e9b8491e-b15e-4aa5-ae97-6619bb4a3be9"
      },
      "outputs": [
        {
          "data": {
            "text/plain": [
              "array([  1.03196588,   1.03174355,   1.03150455, ..., 170.23308241,\n",
              "       169.85324028, 169.73820936])"
            ]
          },
          "execution_count": 33,
          "metadata": {},
          "output_type": "execute_result"
        }
      ],
      "source": [
        "train_predictions = predicted.flatten()\n",
        "\n",
        "dummies = np.zeros((X_train.shape[0], lookback+1))\n",
        "dummies[:, 0] = train_predictions\n",
        "dummies = scaler.inverse_transform(dummies)\n",
        "\n",
        "train_predictions = dc(dummies[:, 0])\n",
        "train_predictions"
      ]
    },
    {
      "cell_type": "code",
      "execution_count": 34,
      "id": "PHnvejOdrL7Q",
      "metadata": {
        "colab": {
          "base_uri": "https://localhost:8080/"
        },
        "id": "PHnvejOdrL7Q",
        "outputId": "952cb861-3f21-42d2-f1b2-9e489c9cdcd7"
      },
      "outputs": [
        {
          "name": "stderr",
          "output_type": "stream",
          "text": [
            "C:\\Users\\alomg\\AppData\\Local\\Temp\\ipykernel_3564\\2550294898.py:2: DeprecationWarning: __array__ implementation doesn't accept a copy keyword, so passing copy=False failed. __array__ must implement 'dtype' and 'copy' keyword arguments.\n",
            "  dummies[:, 0] = y_train.flatten()\n"
          ]
        },
        {
          "data": {
            "text/plain": [
              "array([7.91646265e-02, 7.65634249e-02, 7.52572660e-02, ...,\n",
              "       1.69091505e+02, 1.73315001e+02, 1.68871003e+02])"
            ]
          },
          "execution_count": 34,
          "metadata": {},
          "output_type": "execute_result"
        }
      ],
      "source": [
        "dummies = np.zeros((X_train.shape[0], lookback+1))\n",
        "dummies[:, 0] = y_train.flatten()\n",
        "dummies = scaler.inverse_transform(dummies)\n",
        "\n",
        "new_y_train = dc(dummies[:, 0])\n",
        "new_y_train"
      ]
    },
    {
      "cell_type": "code",
      "execution_count": 35,
      "id": "2LlDAUtyrcrN",
      "metadata": {
        "colab": {
          "base_uri": "https://localhost:8080/",
          "height": 449
        },
        "id": "2LlDAUtyrcrN",
        "outputId": "819c2ff2-be0d-4781-d164-915936251f66"
      },
      "outputs": [
        {
          "data": {
            "image/png": "[encoded data removed]",
            "text/plain": [
              "<Figure size 640x480 with 1 Axes>"
            ]
          },
          "metadata": {},
          "output_type": "display_data"
        }
      ],
      "source": [
        "plt.plot(new_y_train, label='Actual Close')\n",
        "plt.plot(train_predictions, label='Predicted Close')\n",
        "plt.xlabel('Day')\n",
        "plt.ylabel('Close')\n",
        "plt.legend()\n",
        "plt.show()\n"
      ]
    },
    {
      "cell_type": "code",
      "execution_count": 36,
      "id": "yYeC2JMorftR",
      "metadata": {
        "colab": {
          "base_uri": "https://localhost:8080/"
        },
        "id": "yYeC2JMorftR",
        "outputId": "94df7137-866f-42aa-cb02-5a78961f6779"
      },
      "outputs": [
        {
          "data": {
            "text/plain": [
              "array([169.33157708, 168.96166175, 168.54730368, 168.44719076,\n",
              "       168.57696182, 168.68397792, 168.64868384, 168.75452162,\n",
              "       168.74597323, 168.62649581, 168.24734289, 168.17328646,\n",
              "       168.00445291, 167.47101761, 166.79869592, 166.13725704,\n",
              "       165.41294468, 165.15578144, 165.09253   , 164.77102593,\n",
              "       164.56072878, 164.08837725, 163.19970007, 161.65627598,\n",
              "       158.7228209 , 155.95348052, 152.81051754, 149.6548487 ,\n",
              "       147.27503269, 146.58270177, 147.81919518, 149.76279856,\n",
              "       151.66423803, 151.31088591, 153.27885055, 155.39424996,\n",
              "       157.44942155, 159.29170591, 160.65260123, 160.92375983,\n",
              "       160.85427217, 160.47671999, 160.30603003, 159.78351088,\n",
              "       159.09263618, 158.22992654, 156.56355678, 155.6813826 ,\n",
              "       155.53301406, 155.681038  , 155.76538807, 156.0893266 ,\n",
              "       155.81359923, 154.84546312, 152.24833006, 149.15890293,\n",
              "       146.8972026 , 146.59987637, 146.94992696, 147.18816479,\n",
              "       148.66052271, 151.02522062, 153.62892893, 156.36913363,\n",
              "       158.82122191, 161.22554368, 162.92558455, 163.95796145,\n",
              "       164.67132431, 165.54513908, 166.34012854, 166.68050799,\n",
              "       166.48466197, 166.23679191, 166.42376717, 166.22557562,\n",
              "       165.26674381, 164.20594267, 162.91934834, 161.1720523 ,\n",
              "       159.31938537, 158.36786804, 157.52145483, 157.06643352,\n",
              "       157.70005955, 158.06979702, 157.42531041, 155.91136662,\n",
              "       154.51800074, 152.12607359, 149.3115012 , 148.07426856,\n",
              "       143.84032384, 139.35084996, 135.18394732, 132.04333543,\n",
              "       127.39491591, 123.12004673, 119.22396919, 115.13179552,\n",
              "       110.78658273, 108.04489401, 108.97835855, 109.94334042,\n",
              "       112.68584341, 112.56861703, 111.90199798, 110.3754039 ,\n",
              "       108.78678394, 107.11161844, 106.47445467, 108.33986082,\n",
              "       110.80340717, 114.7586676 , 118.86276345, 123.07653774,\n",
              "       124.9494418 , 126.39068535, 126.79668401, 126.24363965,\n",
              "       124.25373154, 120.38742331, 115.10796784, 109.53919262,\n",
              "       106.61359672, 104.32621786, 104.57521344, 106.6207667 ,\n",
              "       108.54028952, 110.45589664, 112.98510387, 114.86643405,\n",
              "       113.85385518, 112.70845385, 110.6216621 , 109.31026187,\n",
              "       109.94053079, 112.10115665, 114.86952436, 116.49605906,\n",
              "       116.60035168, 114.9098152 , 113.30618553, 112.08742253,\n",
              "       112.09388663, 113.01110477, 115.53839445, 118.94183331,\n",
              "       122.16368272, 124.22944254, 125.08192523, 123.6858581 ,\n",
              "       122.98404502, 122.74348389, 126.13205477, 130.38927691,\n",
              "       134.09087572, 138.09187395, 141.37119436, 143.45497361,\n",
              "       144.3348634 , 144.54989606, 145.33516992, 145.52113361,\n",
              "       146.05397975, 146.7113612 , 147.65543064, 148.00321351,\n",
              "       148.04675585, 147.22429815, 145.19125344, 143.06294251,\n",
              "       141.15693983, 140.38533895, 138.86719877, 137.51350122,\n",
              "       136.2530523 , 134.51863443, 133.06516301, 131.91475381,\n",
              "       131.1366666 , 131.34453485, 131.93337908, 133.3869839 ,\n",
              "       135.50676867, 135.42296885, 135.10950182, 133.90975872,\n",
              "       131.8254181 , 129.91780356, 127.97321083, 125.95986967,\n",
              "       123.65268722, 120.93560431, 118.89813534, 117.15319595,\n",
              "       117.23319402, 117.1707485 , 116.70871841, 117.01744991,\n",
              "       118.434599  , 119.99564233, 121.24200696, 121.12029519,\n",
              "       119.91791754, 117.65069799, 115.57836292, 114.23423089,\n",
              "       112.15489814, 112.57305797, 113.82975516, 114.97093788,\n",
              "       116.05352686, 118.16996564, 120.03662237, 120.94896048,\n",
              "       120.71764252, 118.99517462, 114.65831013, 109.69420311,\n",
              "       103.8541498 ,  97.80019211,  92.82146168,  90.08863538,\n",
              "        88.96996306,  88.55938729,  88.31582478,  91.40905923,\n",
              "        95.50796657,  98.18286889, 100.58636527, 101.17199413,\n",
              "        99.59462937,  96.26015571,  94.03967442,  93.18756691,\n",
              "        92.95754954,  93.29027546,  93.94825997,  93.89024428,\n",
              "        95.01491381,  95.48363867,  95.52421019,  94.52949235,\n",
              "        92.26262853,  90.08119305,  88.64764473,  88.43786171,\n",
              "        89.43299918,  91.41668497,  92.54986121,  91.74591206,\n",
              "        90.41476381,  88.30163489,  86.0962189 ,  85.27761297,\n",
              "        84.7251939 ,  85.21641387,  84.79357826,  84.05549287,\n",
              "        83.7077489 ,  83.77447555,  85.21065982,  85.93475681,\n",
              "        86.16470609,  86.58338839,  86.96669879,  88.63496109,\n",
              "        91.92134587,  95.23316185,  98.28362654,  98.91042442,\n",
              "        98.62288604,  96.96398361,  96.30569619,  96.58904096,\n",
              "        96.63664629,  97.526474  ,  98.61253125, 100.29559206,\n",
              "       100.86113109, 102.45182978, 104.26691269, 107.60833123,\n",
              "       107.71822922, 106.8645432 , 105.71171344, 103.23305455,\n",
              "       100.44521674,  98.26812772,  98.78236248,  98.86222715,\n",
              "        99.73204563, 100.01958401,  99.63214392,  97.94436705,\n",
              "        96.43645381,  95.54126807,  94.49651045,  94.34773617,\n",
              "        94.30754816,  93.73742091,  92.87224625,  93.42815304,\n",
              "        93.95863698,  94.10300367,  94.43869763,  94.24381594,\n",
              "        92.9739071 ,  92.22331314,  93.05610618,  94.42990468,\n",
              "        97.15585002,  99.41529375, 100.2283082 , 100.77198435,\n",
              "       100.35635902,  99.83492093,  99.1229198 ,  98.96723955,\n",
              "        98.39712064,  98.63384666, 100.12807301, 101.81076698,\n",
              "       103.05769577, 104.22372052])"
            ]
          },
          "execution_count": 36,
          "metadata": {},
          "output_type": "execute_result"
        }
      ],
      "source": [
        "test_predictions = model(X_test.to(device)).detach().cpu().numpy().flatten()\n",
        "\n",
        "dummies = np.zeros((X_test.shape[0], lookback+1))\n",
        "dummies[:, 0] = test_predictions\n",
        "dummies = scaler.inverse_transform(dummies)\n",
        "\n",
        "test_predictions = dc(dummies[:, 0])\n",
        "test_predictions"
      ]
    },
    {
      "cell_type": "code",
      "execution_count": 37,
      "id": "g-DJXBgYsFyI",
      "metadata": {
        "colab": {
          "base_uri": "https://localhost:8080/"
        },
        "id": "g-DJXBgYsFyI",
        "outputId": "b606685e-137b-41ef-8a56-6171133ed013"
      },
      "outputs": [
        {
          "name": "stderr",
          "output_type": "stream",
          "text": [
            "C:\\Users\\alomg\\AppData\\Local\\Temp\\ipykernel_3564\\1312012603.py:2: DeprecationWarning: __array__ implementation doesn't accept a copy keyword, so passing copy=False failed. __array__ must implement 'dtype' and 'copy' keyword arguments.\n",
            "  dummies[:, 0] = y_test.flatten()\n"
          ]
        },
        {
          "data": {
            "text/plain": [
              "array([170.01749949, 167.07899763, 170.41700626, 171.03700377,\n",
              "       171.0684961 , 169.66949429, 170.66099675, 169.20100565,\n",
              "       168.64449858, 166.71699707, 170.40449492, 167.52200227,\n",
              "       164.35699578, 163.25399737, 162.55400179, 161.48599177,\n",
              "       165.36199892, 165.20699954, 161.21400501, 162.13799851,\n",
              "       158.91749416, 156.29899568, 151.66749509, 142.64300408,\n",
              "       144.54400445, 139.98599336, 138.87249844, 139.63749627,\n",
              "       143.97799855, 149.57350001, 151.19349835, 150.61250219,\n",
              "       138.84550541, 157.63949825, 157.93550165, 161.41349717,\n",
              "       161.18949925, 159.003495  , 153.29350176, 155.1670061 ,\n",
              "       156.51049894, 158.10049453, 154.6524962 , 152.60149876,\n",
              "       150.19749381, 144.82699629, 151.35800212, 153.78849709,\n",
              "       153.56300403, 151.14199678, 152.05250627, 147.89849848,\n",
              "       145.64100565, 137.45300383, 136.01449488, 139.27900567,\n",
              "       146.81750468, 145.52450739, 141.8529947 , 147.36650272,\n",
              "       153.10400311, 157.23899657, 161.25050521, 161.49149987,\n",
              "       164.8890082 , 163.4080074 , 163.64950785, 164.77349929,\n",
              "       168.99049174, 169.31500275, 166.30099379, 162.99749555,\n",
              "       163.55999984, 168.34649425, 164.05499516, 158.75599734,\n",
              "       157.78449856, 154.4604964 , 151.1219931 , 150.78750525,\n",
              "       155.54100108, 151.70649644, 152.78500575, 158.11549591,\n",
              "       153.99799942, 148.29600432, 144.35000372, 146.07400567,\n",
              "       139.39100462, 138.16700588, 144.59649537, 124.2815027 ,\n",
              "       124.50000086, 124.25350088, 125.92849685, 116.40699847,\n",
              "       114.77249899, 108.78900163, 108.85900063, 105.37200234,\n",
              "       106.93049589, 113.05500005, 110.81050072, 115.36850069,\n",
              "       107.11250358, 107.31900035, 107.59100239, 107.55699918,\n",
              "       104.09999809, 106.77500184, 111.07749906, 115.14649953,\n",
              "       120.20950223, 121.68399725, 125.51100121, 122.34999935,\n",
              "       124.79000149, 122.99999961, 121.18000054, 116.15000198,\n",
              "       109.65000214, 103.66999806, 102.30999829, 107.6699986 ,\n",
              "       103.66000386, 106.22000101, 108.67999989, 108.94999683,\n",
              "       112.44000207, 116.45999935, 113.22000127, 107.40000166,\n",
              "       108.91999825, 106.20999917, 109.55999806, 113.50000006,\n",
              "       114.33000152, 116.3300018 , 115.54000075, 111.74999999,\n",
              "       109.22000073, 110.40000137, 110.62999651, 113.55000232,\n",
              "       113.76000211, 118.20999802, 122.76999614, 124.62999702,\n",
              "       122.41999835, 121.13999873, 114.80999825, 120.97000076,\n",
              "       122.28000035, 134.94999758, 135.38999806, 134.16000488,\n",
              "       139.5200031 , 142.57000925, 140.80000272, 139.41000507,\n",
              "       137.83000298, 142.69000357, 140.64000103, 143.55000084,\n",
              "       143.17999102, 144.7799968 , 142.10000324, 142.30000119,\n",
              "       138.22999608, 133.22000121, 133.61999431, 133.80000247,\n",
              "       137.27999891, 130.7499991 , 129.78999174, 128.72999653,\n",
              "       126.76999668, 127.82000117, 127.51000241, 126.11000014,\n",
              "       129.47999576, 129.82000839, 133.27000486, 136.44999605,\n",
              "       126.82000034, 128.55000227, 126.27999811, 123.52999999,\n",
              "       124.66000532, 122.19000322, 118.54000046, 117.30999894,\n",
              "       113.77999884, 115.15000254, 114.41000376, 118.01000286,\n",
              "       114.80000336, 112.99999964, 115.8799967 , 121.08999508,\n",
              "       120.94999707, 120.30000237, 114.55999805, 113.66999803,\n",
              "       112.2099986 , 112.90000206, 112.5299992 , 106.90000263,\n",
              "       113.79000069, 116.36000038, 115.0700003 , 115.25000012,\n",
              "       119.31999967, 119.82000008, 120.59999928, 115.66000341,\n",
              "       110.95999895, 103.41000365, 102.4400021 ,  96.79000116,\n",
              "        92.12000301,  89.30000302,  90.98000304,  90.52999899,\n",
              "        89.98000291,  86.13999884,  96.62999704, 100.79000101,\n",
              "        98.48999791,  98.94000197,  97.1200029 ,  94.84999805,\n",
              "        94.13999897,  92.45999904,  93.199997  ,  94.12999696,\n",
              "        93.410004  ,  93.94999701,  92.41999801,  96.54000095,\n",
              "        95.50000004,  94.12999696,  91.01000197,  88.24999993,\n",
              "        88.45999902,  90.34999813,  89.08999594,  90.55000302,\n",
              "        92.48999797,  91.58000208,  88.44999683,  87.86000102,\n",
              "        84.91999777,  85.19000167,  86.76999681,  83.79000078,\n",
              "        85.25000022,  83.04000085,  81.81999979,  84.17999969,\n",
              "        83.99999987,  85.82000033,  85.13999871,  83.12000309,\n",
              "        86.08000168,  87.3600013 ,  89.87000314,  95.08999606,\n",
              "        95.26999692,  98.12000304,  96.05000307,  95.45999893,\n",
              "        93.68      ,  97.25000011,  97.51999705,  96.32000002,\n",
              "        97.18000006,  99.22000076, 102.2399979 , 100.55000334,\n",
              "       103.12999722, 105.15000257, 112.9100039 , 103.38999927,\n",
              "       102.18000005, 102.11000105, 100.05000292,  98.23999805,\n",
              "        97.61000113,  99.54000066,  99.69999679, 101.16000387,\n",
              "        98.15000197,  97.19999715,  94.58000197,  95.79000102,\n",
              "        95.81999995,  93.5       ,  93.760002  ,  94.23000296,\n",
              "        92.16999798,  92.12999703,  94.90000205,  93.74999998,\n",
              "        93.55000299,  93.919998  ,  92.25000004,  90.73000301,\n",
              "        92.43000003,  94.87999697,  96.19999701, 100.04000108,\n",
              "        98.94999687,  97.70999906, 100.61000119,  98.69999701,\n",
              "        98.70999885,  98.12999689,  98.04000115,  97.23999792,\n",
              "       100.25000017, 102.00000023, 103.290001  , 102.41000421,\n",
              "       103.94999685, 101.09999768])"
            ]
          },
          "execution_count": 37,
          "metadata": {},
          "output_type": "execute_result"
        }
      ],
      "source": [
        "dummies = np.zeros((X_test.shape[0], lookback+1))\n",
        "dummies[:, 0] = y_test.flatten()\n",
        "dummies = scaler.inverse_transform(dummies)\n",
        "\n",
        "new_y_test = dc(dummies[:, 0])\n",
        "new_y_test"
      ]
    },
    {
      "cell_type": "code",
      "execution_count": 38,
      "id": "PhLmIlHOsSK4",
      "metadata": {
        "colab": {
          "base_uri": "https://localhost:8080/",
          "height": 449
        },
        "id": "PhLmIlHOsSK4",
        "outputId": "09c21535-ea22-4d65-bc50-b159bd4dc135"
      },
      "outputs": [
        {
          "data": {
            "image/png": "[encoded data removed]",
            "text/plain": [
              "<Figure size 640x480 with 1 Axes>"
            ]
          },
          "metadata": {},
          "output_type": "display_data"
        }
      ],
      "source": [
        "plt.plot(new_y_test, label='Actual Close')\n",
        "plt.plot(test_predictions, label='Predicted Close')\n",
        "plt.xlabel('Day')\n",
        "plt.ylabel('Close')\n",
        "plt.legend()\n",
        "plt.show()\n"
      ]
    },
    {
      "cell_type": "code",
      "execution_count": null,
      "id": "-CuelDg2seDP",
      "metadata": {
        "id": "-CuelDg2seDP"
      },
      "outputs": [],
      "source": []
    }
  ],
  "metadata": {
    "colab": {
      "gpuType": "T4",
      "provenance": []
    },
    "gpuClass": "standard",
    "kernelspec": {
      "display_name": "Python 3",
      "name": "python3"
    },
    "language_info": {
      "codemirror_mode": {
        "name": "ipython",
        "version": 3
      },
      "file_extension": ".py",
      "mimetype": "text/x-python",
      "name": "python",
      "nbconvert_exporter": "python",
      "pygments_lexer": "ipython3",
      "version": "3.11.9"
    }
  },
  "nbformat": 4,
  "nbformat_minor": 5
}
